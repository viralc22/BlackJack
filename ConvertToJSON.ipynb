{
 "cells": [
  {
   "cell_type": "code",
   "execution_count": null,
   "id": "f30da1d6-483e-42cd-b51a-af694015b7cb",
   "metadata": {},
   "outputs": [],
   "source": []
  }
 ],
 "metadata": {
  "kernelspec": {
   "display_name": "",
   "name": ""
  },
  "language_info": {
   "name": ""
  }
 },
 "nbformat": 4,
 "nbformat_minor": 5
}
